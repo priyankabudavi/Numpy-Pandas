{
 "cells": [
  {
   "cell_type": "code",
   "execution_count": 4,
   "id": "4a02906f",
   "metadata": {},
   "outputs": [],
   "source": [
    "import numpy as np"
   ]
  },
  {
   "cell_type": "code",
   "execution_count": 5,
   "id": "c5239af8",
   "metadata": {},
   "outputs": [
    {
     "data": {
      "text/plain": [
       "array([1, 2, 3, 4, 5, 6])"
      ]
     },
     "execution_count": 5,
     "metadata": {},
     "output_type": "execute_result"
    }
   ],
   "source": [
    "n1 = np.array([1,2,3,4,5,6])\n",
    "n1"
   ]
  },
  {
   "cell_type": "code",
   "execution_count": 6,
   "id": "242538dd",
   "metadata": {},
   "outputs": [
    {
     "data": {
      "text/plain": [
       "numpy.ndarray"
      ]
     },
     "execution_count": 6,
     "metadata": {},
     "output_type": "execute_result"
    }
   ],
   "source": [
    "type(n1)"
   ]
  },
  {
   "cell_type": "code",
   "execution_count": 7,
   "id": "7c240e23",
   "metadata": {},
   "outputs": [
    {
     "data": {
      "text/plain": [
       "array([[ 1,  2,  3,  4,  5,  6],\n",
       "       [10, 20, 30, 40, 50, 60]])"
      ]
     },
     "execution_count": 7,
     "metadata": {},
     "output_type": "execute_result"
    }
   ],
   "source": [
    "n2 = np.array([[1,2,3,4,5,6],[10,20,30,40,50,60]])\n",
    "n2"
   ]
  },
  {
   "cell_type": "code",
   "execution_count": 8,
   "id": "057e92d3",
   "metadata": {},
   "outputs": [
    {
     "data": {
      "text/plain": [
       "numpy.ndarray"
      ]
     },
     "execution_count": 8,
     "metadata": {},
     "output_type": "execute_result"
    }
   ],
   "source": [
    "type(n2)"
   ]
  },
  {
   "cell_type": "code",
   "execution_count": 9,
   "id": "450a90d4",
   "metadata": {},
   "outputs": [],
   "source": [
    "import numpy as np"
   ]
  },
  {
   "cell_type": "code",
   "execution_count": 10,
   "id": "8f613a59",
   "metadata": {},
   "outputs": [
    {
     "data": {
      "text/plain": [
       "array([[0., 0., 0.],\n",
       "       [0., 0., 0.]])"
      ]
     },
     "execution_count": 10,
     "metadata": {},
     "output_type": "execute_result"
    }
   ],
   "source": [
    "n3 = np.zeros((2,3))\n",
    "n3"
   ]
  },
  {
   "cell_type": "code",
   "execution_count": 11,
   "id": "2dba02bc",
   "metadata": {},
   "outputs": [
    {
     "data": {
      "text/plain": [
       "array([[0., 0., 0., 0., 0., 0.],\n",
       "       [0., 0., 0., 0., 0., 0.],\n",
       "       [0., 0., 0., 0., 0., 0.],\n",
       "       [0., 0., 0., 0., 0., 0.],\n",
       "       [0., 0., 0., 0., 0., 0.],\n",
       "       [0., 0., 0., 0., 0., 0.]])"
      ]
     },
     "execution_count": 11,
     "metadata": {},
     "output_type": "execute_result"
    }
   ],
   "source": [
    "n4 = np.zeros((6,6))\n",
    "n4"
   ]
  },
  {
   "cell_type": "code",
   "execution_count": 12,
   "id": "f1a1e827",
   "metadata": {},
   "outputs": [
    {
     "data": {
      "text/plain": [
       "array([[5, 5, 5],\n",
       "       [5, 5, 5],\n",
       "       [5, 5, 5]])"
      ]
     },
     "execution_count": 12,
     "metadata": {},
     "output_type": "execute_result"
    }
   ],
   "source": [
    "n5 = np.full((3,3),(5))\n",
    "n5"
   ]
  },
  {
   "cell_type": "code",
   "execution_count": 121,
   "id": "03352d1f",
   "metadata": {},
   "outputs": [
    {
     "data": {
      "text/plain": [
       "array([[9, 9, 9, 9, 9, 9],\n",
       "       [9, 9, 9, 9, 9, 9],\n",
       "       [9, 9, 9, 9, 9, 9]])"
      ]
     },
     "execution_count": 121,
     "metadata": {},
     "output_type": "execute_result"
    }
   ],
   "source": [
    "n6 = np.full((3,6),9)\n",
    "n6"
   ]
  },
  {
   "cell_type": "code",
   "execution_count": 14,
   "id": "e48f25d6",
   "metadata": {},
   "outputs": [
    {
     "data": {
      "text/plain": [
       "array([10, 11, 12, 13, 14, 15, 16, 17, 18, 19, 20, 21, 22, 23, 24, 25, 26,\n",
       "       27, 28, 29, 30, 31, 32, 33, 34, 35, 36, 37, 38, 39, 40, 41, 42, 43,\n",
       "       44, 45, 46, 47, 48, 49, 50])"
      ]
     },
     "execution_count": 14,
     "metadata": {},
     "output_type": "execute_result"
    }
   ],
   "source": [
    "n7 = np.arange(10,51)\n",
    "n7"
   ]
  },
  {
   "cell_type": "code",
   "execution_count": 15,
   "id": "cb12e9d2",
   "metadata": {},
   "outputs": [
    {
     "data": {
      "text/plain": [
       "array([ 10,  15,  20,  25,  30,  35,  40,  45,  50,  55,  60,  65,  70,\n",
       "        75,  80,  85,  90,  95, 100, 105, 110, 115, 120, 125, 130, 135,\n",
       "       140, 145, 150, 155, 160, 165, 170, 175, 180, 185, 190, 195, 200,\n",
       "       205, 210, 215, 220, 225, 230, 235, 240, 245, 250, 255, 260, 265,\n",
       "       270, 275, 280, 285, 290, 295, 300, 305, 310, 315, 320, 325, 330,\n",
       "       335, 340, 345, 350, 355, 360, 365, 370, 375, 380, 385, 390, 395,\n",
       "       400, 405, 410, 415, 420, 425, 430, 435, 440, 445, 450, 455, 460,\n",
       "       465, 470, 475, 480, 485, 490, 495, 500])"
      ]
     },
     "execution_count": 15,
     "metadata": {},
     "output_type": "execute_result"
    }
   ],
   "source": [
    "n8 = np.arange(10,501,5)\n",
    "n8"
   ]
  },
  {
   "cell_type": "code",
   "execution_count": 16,
   "id": "3b238018",
   "metadata": {},
   "outputs": [
    {
     "data": {
      "text/plain": [
       "array([973, 648, 180, 567, 390, 818, 947, 544, 543, 382])"
      ]
     },
     "execution_count": 16,
     "metadata": {},
     "output_type": "execute_result"
    }
   ],
   "source": [
    "n9 = np.random.randint(100,1000,10)\n",
    "n9"
   ]
  },
  {
   "cell_type": "code",
   "execution_count": 17,
   "id": "2a10660d",
   "metadata": {},
   "outputs": [
    {
     "data": {
      "text/plain": [
       "(6,)"
      ]
     },
     "execution_count": 17,
     "metadata": {},
     "output_type": "execute_result"
    }
   ],
   "source": [
    "n1.shape"
   ]
  },
  {
   "cell_type": "code",
   "execution_count": 18,
   "id": "245a1e47",
   "metadata": {},
   "outputs": [
    {
     "data": {
      "text/plain": [
       "array([[1, 2, 3],\n",
       "       [4, 5, 6]])"
      ]
     },
     "execution_count": 18,
     "metadata": {},
     "output_type": "execute_result"
    }
   ],
   "source": [
    "n10 = np.array([[1,2,3],[4,5,6]])\n",
    "n10"
   ]
  },
  {
   "cell_type": "code",
   "execution_count": 19,
   "id": "da0b6f0c",
   "metadata": {},
   "outputs": [
    {
     "data": {
      "text/plain": [
       "(2, 3)"
      ]
     },
     "execution_count": 19,
     "metadata": {},
     "output_type": "execute_result"
    }
   ],
   "source": [
    "n10.shape"
   ]
  },
  {
   "cell_type": "code",
   "execution_count": 20,
   "id": "fddcb628",
   "metadata": {},
   "outputs": [
    {
     "data": {
      "text/plain": [
       "array([[1, 2],\n",
       "       [3, 4],\n",
       "       [5, 6]])"
      ]
     },
     "execution_count": 20,
     "metadata": {},
     "output_type": "execute_result"
    }
   ],
   "source": [
    "n10.shape = (3,2)\n",
    "n10"
   ]
  },
  {
   "cell_type": "code",
   "execution_count": 119,
   "id": "b7c77c69",
   "metadata": {},
   "outputs": [
    {
     "data": {
      "text/plain": [
       "array([ 10,  20,  30, 100, 200, 300])"
      ]
     },
     "execution_count": 119,
     "metadata": {},
     "output_type": "execute_result"
    }
   ],
   "source": [
    "n1 = np.array([10, 20,30])\n",
    "n2 = np.array ([100,200,300])\n",
    "np.vstack([n1,n2])\n",
    "np.hstack([n1,n2])"
   ]
  },
  {
   "cell_type": "code",
   "execution_count": 22,
   "id": "1be57662",
   "metadata": {},
   "outputs": [
    {
     "data": {
      "text/plain": [
       "array([[ 10, 100],\n",
       "       [ 20, 200],\n",
       "       [ 30, 300]])"
      ]
     },
     "execution_count": 22,
     "metadata": {},
     "output_type": "execute_result"
    }
   ],
   "source": [
    "np.column_stack((n1,n2))"
   ]
  },
  {
   "cell_type": "code",
   "execution_count": 29,
   "id": "ac8113e5",
   "metadata": {},
   "outputs": [
    {
     "data": {
      "text/plain": [
       "array([50, 60])"
      ]
     },
     "execution_count": 29,
     "metadata": {},
     "output_type": "execute_result"
    }
   ],
   "source": [
    "import numpy as np\n",
    "n1 = np.array([10,20,30,40,50,60])\n",
    "n2 = np.array([50,60,70,80,90])\n",
    "np.intersect1d(n1,n2)"
   ]
  },
  {
   "cell_type": "code",
   "execution_count": 33,
   "id": "3c2a3108",
   "metadata": {},
   "outputs": [
    {
     "data": {
      "text/plain": [
       "array([10, 20, 30, 40])"
      ]
     },
     "execution_count": 33,
     "metadata": {},
     "output_type": "execute_result"
    }
   ],
   "source": [
    "import numpy as np\n",
    "n1 = np.array([10,20,30,40,50,60])\n",
    "n2 = np.array([50,60,70,80,90])\n",
    "np.setdiff1d(n1,n2)"
   ]
  },
  {
   "cell_type": "code",
   "execution_count": 34,
   "id": "de54692a",
   "metadata": {},
   "outputs": [
    {
     "data": {
      "text/plain": [
       "array([70, 80, 90])"
      ]
     },
     "execution_count": 34,
     "metadata": {},
     "output_type": "execute_result"
    }
   ],
   "source": [
    "np.setdiff1d(n2,n1)"
   ]
  },
  {
   "cell_type": "code",
   "execution_count": 46,
   "id": "d35cb6fc",
   "metadata": {},
   "outputs": [
    {
     "data": {
      "text/plain": [
       "(1, 6)"
      ]
     },
     "execution_count": 46,
     "metadata": {},
     "output_type": "execute_result"
    }
   ],
   "source": [
    "import numpy as np\n",
    "n1 = np.array([10,20,30,40,50,60])\n",
    "n2 = np.array([50,60,70,80,90,100])\n",
    "np.shape([n1])"
   ]
  },
  {
   "cell_type": "code",
   "execution_count": 47,
   "id": "211a0856",
   "metadata": {},
   "outputs": [
    {
     "data": {
      "text/plain": [
       "(1, 6)"
      ]
     },
     "execution_count": 47,
     "metadata": {},
     "output_type": "execute_result"
    }
   ],
   "source": [
    "np.shape([n1])"
   ]
  },
  {
   "cell_type": "code",
   "execution_count": 48,
   "id": "cd4cf1df",
   "metadata": {},
   "outputs": [
    {
     "data": {
      "text/plain": [
       "(6,)"
      ]
     },
     "execution_count": 48,
     "metadata": {},
     "output_type": "execute_result"
    }
   ],
   "source": [
    "n1.shape"
   ]
  },
  {
   "cell_type": "code",
   "execution_count": 49,
   "id": "2da27f3b",
   "metadata": {},
   "outputs": [
    {
     "data": {
      "text/plain": [
       "(6,)"
      ]
     },
     "execution_count": 49,
     "metadata": {},
     "output_type": "execute_result"
    }
   ],
   "source": [
    "np.shape(n1)"
   ]
  },
  {
   "cell_type": "code",
   "execution_count": 53,
   "id": "50546357",
   "metadata": {},
   "outputs": [
    {
     "data": {
      "text/plain": [
       "(2, 2)"
      ]
     },
     "execution_count": 53,
     "metadata": {},
     "output_type": "execute_result"
    }
   ],
   "source": [
    "n1 = np.array([[10,20],[30, 40]])\n",
    "n1\n",
    "n1.shape"
   ]
  },
  {
   "cell_type": "code",
   "execution_count": 55,
   "id": "2a962854",
   "metadata": {},
   "outputs": [
    {
     "data": {
      "text/plain": [
       "(2, 2)"
      ]
     },
     "execution_count": 55,
     "metadata": {},
     "output_type": "execute_result"
    }
   ],
   "source": [
    "np.shape(n1)"
   ]
  },
  {
   "cell_type": "code",
   "execution_count": 58,
   "id": "6cd9300c",
   "metadata": {},
   "outputs": [
    {
     "data": {
      "text/plain": [
       "(1, 2, 2)"
      ]
     },
     "execution_count": 58,
     "metadata": {},
     "output_type": "execute_result"
    }
   ],
   "source": [
    "np.shape([n1])"
   ]
  },
  {
   "cell_type": "code",
   "execution_count": 60,
   "id": "5b62349b",
   "metadata": {},
   "outputs": [
    {
     "data": {
      "text/plain": [
       "660"
      ]
     },
     "execution_count": 60,
     "metadata": {},
     "output_type": "execute_result"
    }
   ],
   "source": [
    "n1 = np.array([10,20,30,40,50,60])\n",
    "n2 = np.array([50,60,70,80,90,100])\n",
    "np.sum([n1,n2])"
   ]
  },
  {
   "cell_type": "code",
   "execution_count": 61,
   "id": "167769a7",
   "metadata": {},
   "outputs": [
    {
     "data": {
      "text/plain": [
       "array([ 60,  80, 100, 120, 140, 160])"
      ]
     },
     "execution_count": 61,
     "metadata": {},
     "output_type": "execute_result"
    }
   ],
   "source": [
    "np.sum([n1,n2], axis=0)"
   ]
  },
  {
   "cell_type": "code",
   "execution_count": 62,
   "id": "e04e917c",
   "metadata": {
    "scrolled": false
   },
   "outputs": [
    {
     "data": {
      "text/plain": [
       "array([210, 450])"
      ]
     },
     "execution_count": 62,
     "metadata": {},
     "output_type": "execute_result"
    }
   ],
   "source": [
    "np.sum([n1,n2], axis=1)"
   ]
  },
  {
   "cell_type": "code",
   "execution_count": 87,
   "id": "402da173",
   "metadata": {
    "scrolled": true
   },
   "outputs": [
    {
     "data": {
      "text/plain": [
       "array([35, 45, 55, 65, 75, 85])"
      ]
     },
     "execution_count": 87,
     "metadata": {},
     "output_type": "execute_result"
    }
   ],
   "source": [
    "n1"
   ]
  },
  {
   "cell_type": "code",
   "execution_count": 88,
   "id": "466fd368",
   "metadata": {},
   "outputs": [
    {
     "data": {
      "text/plain": [
       "array([110, 120, 130, 140])"
      ]
     },
     "execution_count": 88,
     "metadata": {},
     "output_type": "execute_result"
    }
   ],
   "source": [
    "n1 = np.array([10, 20, 30, 40])\n",
    "n1+100"
   ]
  },
  {
   "cell_type": "code",
   "execution_count": 92,
   "id": "6b6f007b",
   "metadata": {},
   "outputs": [
    {
     "data": {
      "text/plain": [
       "array([210, 220, 230, 240])"
      ]
     },
     "execution_count": 92,
     "metadata": {},
     "output_type": "execute_result"
    }
   ],
   "source": [
    "n1=n1+100\n",
    "n1"
   ]
  },
  {
   "cell_type": "markdown",
   "id": "29417beb",
   "metadata": {},
   "source": [
    "n1"
   ]
  },
  {
   "cell_type": "code",
   "execution_count": 93,
   "id": "32427b13",
   "metadata": {},
   "outputs": [
    {
     "data": {
      "text/plain": [
       "array([210, 220, 230, 240])"
      ]
     },
     "execution_count": 93,
     "metadata": {},
     "output_type": "execute_result"
    }
   ],
   "source": [
    "n1"
   ]
  },
  {
   "cell_type": "code",
   "execution_count": 95,
   "id": "94a40646",
   "metadata": {},
   "outputs": [
    {
     "data": {
      "text/plain": [
       "array([110, 120, 130])"
      ]
     },
     "execution_count": 95,
     "metadata": {},
     "output_type": "execute_result"
    }
   ],
   "source": [
    "n1= np.array([10, 20, 30])\n",
    "n1+100"
   ]
  },
  {
   "cell_type": "markdown",
   "id": "2e670b40",
   "metadata": {},
   "source": [
    "# "
   ]
  },
  {
   "cell_type": "code",
   "execution_count": 96,
   "id": "761b0da2",
   "metadata": {},
   "outputs": [
    {
     "data": {
      "text/plain": [
       "array([ 5, 15, 25])"
      ]
     },
     "execution_count": 96,
     "metadata": {},
     "output_type": "execute_result"
    }
   ],
   "source": [
    "n1-5"
   ]
  },
  {
   "cell_type": "code",
   "execution_count": 97,
   "id": "0b9ddd96",
   "metadata": {},
   "outputs": [
    {
     "data": {
      "text/plain": [
       "array([ 50, 100, 150])"
      ]
     },
     "execution_count": 97,
     "metadata": {},
     "output_type": "execute_result"
    }
   ],
   "source": [
    "n1 * 5"
   ]
  },
  {
   "cell_type": "code",
   "execution_count": 98,
   "id": "1c61ef73",
   "metadata": {},
   "outputs": [
    {
     "data": {
      "text/plain": [
       "array([1., 2., 3.])"
      ]
     },
     "execution_count": 98,
     "metadata": {},
     "output_type": "execute_result"
    }
   ],
   "source": [
    "n1 / 10"
   ]
  },
  {
   "cell_type": "code",
   "execution_count": 100,
   "id": "826bac9d",
   "metadata": {},
   "outputs": [
    {
     "data": {
      "text/plain": [
       "20.0"
      ]
     },
     "execution_count": 100,
     "metadata": {},
     "output_type": "execute_result"
    }
   ],
   "source": [
    "np.mean(n1)"
   ]
  },
  {
   "cell_type": "code",
   "execution_count": 124,
   "id": "ddff459e",
   "metadata": {},
   "outputs": [],
   "source": [
    "n1 = np.array ([10,48,23,9,45,61])\n",
    "n2=np.array ([30,40])"
   ]
  },
  {
   "cell_type": "code",
   "execution_count": 125,
   "id": "1f055134",
   "metadata": {},
   "outputs": [
    {
     "data": {
      "text/plain": [
       "32.666666666666664"
      ]
     },
     "execution_count": 125,
     "metadata": {},
     "output_type": "execute_result"
    }
   ],
   "source": [
    "np.mean(n1)"
   ]
  },
  {
   "cell_type": "code",
   "execution_count": 126,
   "id": "9c984843",
   "metadata": {
    "scrolled": true
   },
   "outputs": [
    {
     "data": {
      "text/plain": [
       "19.821424996424675"
      ]
     },
     "execution_count": 126,
     "metadata": {},
     "output_type": "execute_result"
    }
   ],
   "source": [
    "np.std(n1)"
   ]
  },
  {
   "cell_type": "code",
   "execution_count": 127,
   "id": "c90e9df6",
   "metadata": {},
   "outputs": [
    {
     "data": {
      "text/plain": [
       "34.0"
      ]
     },
     "execution_count": 127,
     "metadata": {},
     "output_type": "execute_result"
    }
   ],
   "source": [
    "np.median(n1)"
   ]
  },
  {
   "cell_type": "code",
   "execution_count": 132,
   "id": "f91f7245",
   "metadata": {},
   "outputs": [],
   "source": [
    "np.save('my_numpy',n1)"
   ]
  },
  {
   "cell_type": "code",
   "execution_count": 134,
   "id": "4d32591c",
   "metadata": {},
   "outputs": [
    {
     "data": {
      "text/plain": [
       "array([10, 48, 23,  9, 45, 61])"
      ]
     },
     "execution_count": 134,
     "metadata": {},
     "output_type": "execute_result"
    }
   ],
   "source": [
    "n2= np.load('my_numpy.npy')\n",
    "n2"
   ]
  }
 ],
 "metadata": {
  "kernelspec": {
   "display_name": "Python 3",
   "language": "python",
   "name": "python3"
  },
  "language_info": {
   "codemirror_mode": {
    "name": "ipython",
    "version": 3
   },
   "file_extension": ".py",
   "mimetype": "text/x-python",
   "name": "python",
   "nbconvert_exporter": "python",
   "pygments_lexer": "ipython3",
   "version": "3.8.8"
  }
 },
 "nbformat": 4,
 "nbformat_minor": 5
}
